{
  "cells": [
    {
      "cell_type": "markdown",
      "metadata": {
        "id": "YF9DUw43eaN2"
      },
      "source": [
        "ライブラリをインストールします。"
      ]
    },
    {
      "cell_type": "code",
      "execution_count": null,
      "metadata": {
        "id": "FfG01DkCr-pN"
      },
      "outputs": [],
      "source": [
        "# Install Vertex AI LLM SDK\n",
        "! pip install google-cloud-aiplatform google-cloud-discoveryengine google-auth --upgrade --user"
      ]
    },
    {
      "cell_type": "markdown",
      "metadata": {
        "id": "hQa7pZ-HehNF"
      },
      "source": [
        "ランタイムを再起動します。"
      ]
    },
    {
      "cell_type": "code",
      "execution_count": null,
      "metadata": {
        "id": "_9i8boPQslmu"
      },
      "outputs": [],
      "source": [
        "import IPython\n",
        "\n",
        "app = IPython.Application.instance()\n",
        "app.kernel.do_shutdown(True)"
      ]
    },
    {
      "cell_type": "markdown",
      "metadata": {
        "id": "YDUoo4FReoFr"
      },
      "source": [
        "`Vertex AI User`権限のあるアカウントでログインします。"
      ]
    },
    {
      "cell_type": "code",
      "execution_count": null,
      "metadata": {
        "id": "42eK3kT2sqti"
      },
      "outputs": [],
      "source": [
        "import sys\n",
        "\n",
        "if \"google.colab\" in sys.modules:\n",
        "    from google.colab import auth\n",
        "    auth.authenticate_user()"
      ]
    },
    {
      "cell_type": "markdown",
      "metadata": {
        "id": "pkAiAHPQeubJ"
      },
      "source": [
        "Cloud Console で Vertex AI Search のアプリを作成してください。検索対象の文書も登録しておいてください。\n",
        "プロジェクトIDとDATASTORE_IDを確認して変更してください。"
      ]
    },
    {
      "cell_type": "code",
      "execution_count": null,
      "metadata": {
        "id": "3DHnbAUVt2Cb"
      },
      "outputs": [],
      "source": [
        "PROJECT_ID = \"llm20230620\"  # @param {type:\"string\"}\n",
        "LOCATION = \"global\"\n",
        "DATASTORE_ID = \"es-grounding-ds_1693576321287\" # @param {type:\"string\"}\n"
      ]
    },
    {
      "cell_type": "markdown",
      "metadata": {
        "id": "M9Vhlu-DjI9k"
      },
      "source": [
        "質問定義するで。"
      ]
    },
    {
      "cell_type": "code",
      "execution_count": null,
      "metadata": {
        "id": "_ds7-Eo-T-uH"
      },
      "outputs": [],
      "source": [
        "search_query = \"Cloud Spannerの構成パターンとそれぞれの可用性は？\""
      ]
    },
    {
      "cell_type": "markdown",
      "metadata": {
        "id": "MLHk0xzFjNL2"
      },
      "source": [
        "Search モードで Summarization を、安定バージョンで。"
      ]
    },
    {
      "cell_type": "code",
      "execution_count": null,
      "metadata": {
        "id": "nd9EUzjSuIdn"
      },
      "outputs": [],
      "source": [
        "from typing import List\n",
        "from google.cloud import discoveryengine_v1alpha as discoveryengine\n",
        "from google.api_core.client_options import ClientOptions\n",
        "\n",
        "client = discoveryengine.SearchServiceClient(\n",
        "    client_options=ClientOptions(api_endpoint=f\"{LOCATION}-discoveryengine.googleapis.com\")\n",
        ")\n",
        "\n",
        "# `SearchRequest` https://cloud.google.com/python/docs/reference/discoveryengine/latest/google.cloud.discoveryengine_v1alpha.types.SearchRequest\n",
        "request = discoveryengine.SearchRequest(\n",
        "    # e.g. projects/{project_id}/locations/{location}/dataStores/{data_store_id}/servingConfigs/{serving_config_id}\n",
        "#    serving_config=client.serving_config_path(\n",
        "##        project=PROJECT_ID,\n",
        " #       location=LOCATION,\n",
        "#        data_store=DATASTORE_ID,\n",
        "#        serving_config=\"default_search:search\",\n",
        "#    ),\n",
        "    serving_config = f\"projects/{PROJECT_ID}/locations/{LOCATION}/collections/default_collection/dataStores/{DATASTORE_ID}/servingConfigs/default_search:answer\",\n",
        "   query_expansion_spec=discoveryengine.SearchRequest.QueryExpansionSpec(\n",
        "        condition=discoveryengine.SearchRequest.QueryExpansionSpec.Condition.AUTO,\n",
        "    ),\n",
        "    spell_correction_spec=discoveryengine.SearchRequest.SpellCorrectionSpec(\n",
        "        mode=discoveryengine.SearchRequest.SpellCorrectionSpec.Mode.AUTO\n",
        "    ),\n",
        "    query=search_query,\n",
        "    page_size=10,\n",
        "    # `ContentSearchSpec` https://cloud.google.com/python/docs/reference/discoveryengine/latest/google.cloud.discoveryengine_v1alpha.types.SearchRequest.ContentSearchSpec\n",
        "    content_search_spec = discoveryengine.SearchRequest.ContentSearchSpec(\n",
        "        # https://cloud.google.com/generative-ai-app-builder/docs/snippets\n",
        "        snippet_spec=discoveryengine.SearchRequest.ContentSearchSpec.SnippetSpec(\n",
        "            return_snippet=True\n",
        "        ),\n",
        "        # https://cloud.google.com/generative-ai-app-builder/docs/get-search-summaries\n",
        "        summary_spec=discoveryengine.SearchRequest.ContentSearchSpec.SummarySpec(\n",
        "            summary_result_count=5,\n",
        "            include_citations=True,\n",
        "            ignore_adversarial_query=True,\n",
        "            ignore_non_summary_seeking_query=True,\n",
        "            # https://cloud.google.com/generative-ai-app-builder/docs/get-search-summaries#summary-model\n",
        "            model_spec=discoveryengine.SearchRequest.ContentSearchSpec.SummarySpec.ModelSpec(\n",
        "                version=\"stable\"\n",
        "            )\n",
        "        ),\n",
        "        # https://cloud.google.com/generative-ai-app-builder/docs/snippets#extractive-segments\n",
        "        extractive_content_spec=discoveryengine.SearchRequest.ContentSearchSpec.ExtractiveContentSpec(\n",
        "            max_extractive_answer_count=4,\n",
        "            max_extractive_segment_count=4,\n",
        "            return_extractive_segment_score=True,\n",
        "        ),\n",
        "    ),\n",
        ")\n",
        "\n",
        "response = client.search(request)\n"
      ]
    },
    {
      "cell_type": "markdown",
      "metadata": {
        "id": "s8d5f8B7jXGd"
      },
      "source": [
        "サマリーの確認"
      ]
    },
    {
      "cell_type": "code",
      "execution_count": null,
      "metadata": {
        "id": "0a1-jKlBW95V"
      },
      "outputs": [],
      "source": [
        "response.summary.summary_text"
      ]
    },
    {
      "cell_type": "markdown",
      "metadata": {
        "id": "zs0MUBxijhnF"
      },
      "source": [
        "やっぱ、応答全部見たい"
      ]
    },
    {
      "cell_type": "code",
      "execution_count": null,
      "metadata": {
        "id": "LoFW5bb0jcmh"
      },
      "outputs": [],
      "source": [
        "response"
      ]
    },
    {
      "cell_type": "markdown",
      "source": [
        "Answer API で ReAct する。\n",
        "\n",
        "https://cloud.google.com/generative-ai-app-builder/docs/answer"
      ],
      "metadata": {
        "id": "pnUF16QDWN1x"
      }
    },
    {
      "cell_type": "code",
      "execution_count": null,
      "metadata": {
        "id": "jhtAJ_xEc_uU"
      },
      "outputs": [],
      "source": [
        "from typing import List\n",
        "from google.cloud import discoveryengine_v1alpha as discoveryengine\n",
        "from google.api_core.client_options import ClientOptions\n",
        "\n",
        "client = discoveryengine.ConversationalSearchServiceClient(\n",
        "    client_options=ClientOptions(api_endpoint=f\"{LOCATION}-discoveryengine.googleapis.com\")\n",
        ")\n",
        "client.serving_config_path(\n",
        "        project=PROJECT_ID,\n",
        "        location=LOCATION,\n",
        "        data_store=DATASTORE_ID,\n",
        "        serving_config=\"default_search:answer\",\n",
        "    ),\n",
        "# https://cloud.google.com/python/docs/reference/discoveryengine/latest/google.cloud.discoveryengine_v1alpha.types.AnswerQueryRequest\n",
        "request = discoveryengine.AnswerQueryRequest(\n",
        "    serving_config = f\"projects/{PROJECT_ID}/locations/{LOCATION}/collections/default_collection/dataStores/{DATASTORE_ID}/servingConfigs/default_search:answer\",\n",
        "    # https://cloud.google.com/python/docs/reference/discoveryengine/latest/google.cloud.discoveryengine_v1alpha.types.AnswerQueryRequest.QueryUnderstandingSpec\n",
        "    query_understanding_spec=discoveryengine.AnswerQueryRequest.QueryUnderstandingSpec(\n",
        "        query_rephraser_spec = discoveryengine.AnswerQueryRequest.QueryUnderstandingSpec.QueryRephraserSpec(\n",
        "            max_rephrase_steps = 5\n",
        "        )\n",
        "    ),\n",
        "    answer_generation_spec=discoveryengine.AnswerQueryRequest.AnswerGenerationSpec(\n",
        "        ignore_low_relevant_content = True,\n",
        "        model_spec = discoveryengine.AnswerQueryRequest.AnswerGenerationSpec.ModelSpec(\n",
        "            model_version = \"stable\",\n",
        "        ),\n",
        "        prompt_spec = discoveryengine.AnswerQueryRequest.AnswerGenerationSpec.PromptSpec(\n",
        "              preamble = \"できるだけ検索で取得したコンテキスト情報の文言を利用し、専門家でも分かるように詳細に回答を作成してください。回答には引用を示してください。\"\n",
        "        ),\n",
        "        include_citations = True,\n",
        "   ),\n",
        "    query = discoveryengine.Query(\n",
        "        text = search_query\n",
        "    ),\n",
        "#    search_spec = discoveryengine.AnswerQueryRequest.SearchSpec(\n",
        "#        search_params = discoveryengine.AnswerQueryRequest.SearchSpec.SearchParams(\n",
        "#            max_return_results = 3\n",
        "#        ),\n",
        "#    )\n",
        ")\n",
        "\n",
        "response = client.answer_query(request)\n"
      ]
    },
    {
      "cell_type": "code",
      "source": [
        "response.answer.answer_text"
      ],
      "metadata": {
        "id": "QrhAyfobnPmL"
      },
      "execution_count": null,
      "outputs": []
    },
    {
      "cell_type": "code",
      "source": [
        "for step in response.answer.steps:\n",
        "    print(step.thought)\n",
        "    for action in step.actions:\n",
        "        print(action.search_action.query)"
      ],
      "metadata": {
        "id": "POz_j_2yPcsc"
      },
      "execution_count": null,
      "outputs": []
    },
    {
      "cell_type": "code",
      "source": [
        "response"
      ],
      "metadata": {
        "id": "GV7tlQ2iVWGE"
      },
      "execution_count": null,
      "outputs": []
    },
    {
      "cell_type": "markdown",
      "metadata": {
        "id": "BVPpxP7rLSnw"
      },
      "source": [
        "Chunksモードのデータソースに対して、chunkを取り出します。"
      ]
    },
    {
      "cell_type": "code",
      "execution_count": null,
      "metadata": {
        "id": "uMrf4G8bXrXj"
      },
      "outputs": [],
      "source": [
        "PROJECT_ID = \"<your_project_id>\"  # @param {type:\"string\"}\n",
        "LOCATION = \"global\"\n",
        "DATASTORE_ID = \"<your_datastore_id>\" # @param {type:\"string\"}"
      ]
    },
    {
      "cell_type": "code",
      "execution_count": null,
      "metadata": {
        "id": "uqZn6JbQmPbX"
      },
      "outputs": [],
      "source": [
        "# `SearchRequest` https://cloud.google.com/python/docs/reference/discoveryengine/latest/google.cloud.discoveryengine_v1alpha.types.SearchRequest\n",
        "request2 = discoveryengine.SearchRequest(\n",
        "    # e.g. projects/{project_id}/locations/{location}/dataStores/{data_store_id}/servingConfigs/{serving_config_id}\n",
        "    serving_config=client.serving_config_path(\n",
        "        project=PROJECT_ID,\n",
        "        location=LOCATION,\n",
        "        data_store=DATASTORE_ID,\n",
        "        serving_config=\"default_search:search\",\n",
        "    ),\n",
        "    query_expansion_spec=discoveryengine.SearchRequest.QueryExpansionSpec(\n",
        "        condition=discoveryengine.SearchRequest.QueryExpansionSpec.Condition.AUTO,\n",
        "    ),\n",
        "    spell_correction_spec=discoveryengine.SearchRequest.SpellCorrectionSpec(\n",
        "        mode=discoveryengine.SearchRequest.SpellCorrectionSpec.Mode.AUTO\n",
        "    ),\n",
        "    query=search_query,\n",
        "    page_size=10,\n",
        "    # `ContentSearchSpec` https://cloud.google.com/python/docs/reference/discoveryengine/latest/google.cloud.discoveryengine_v1alpha.types.SearchRequest.ContentSearchSpec\n",
        "    content_search_spec = discoveryengine.SearchRequest.ContentSearchSpec(\n",
        "        search_result_mode=\"CHUNKS\",#\"CHUNKS\"\n",
        "    ),\n",
        ")\n",
        "\n",
        "response2 = client.search(request2)"
      ]
    },
    {
      "cell_type": "code",
      "execution_count": null,
      "metadata": {
        "id": "zVHW0p9t47Dw"
      },
      "outputs": [],
      "source": [
        "response2"
      ]
    }
  ],
  "metadata": {
    "colab": {
      "provenance": []
    },
    "kernelspec": {
      "display_name": "Python 3",
      "name": "python3"
    },
    "language_info": {
      "name": "python"
    }
  },
  "nbformat": 4,
  "nbformat_minor": 0
}