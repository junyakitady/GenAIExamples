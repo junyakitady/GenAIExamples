{
  "cells": [
    {
      "cell_type": "markdown",
      "metadata": {
        "id": "YF9DUw43eaN2"
      },
      "source": [
        "#事前準備\n",
        "ライブラリをインストールします。"
      ]
    },
    {
      "cell_type": "code",
      "execution_count": null,
      "metadata": {
        "id": "FfG01DkCr-pN"
      },
      "outputs": [],
      "source": [
        "# Install Vertex AI LLM SDK\n",
        "! pip install google-cloud-aiplatform google-cloud-discoveryengine google-auth --upgrade --user"
      ]
    },
    {
      "cell_type": "markdown",
      "metadata": {
        "id": "hQa7pZ-HehNF"
      },
      "source": [
        "ランタイムを再起動します。自動で再起動された場合はスキップしてください。"
      ]
    },
    {
      "cell_type": "code",
      "execution_count": null,
      "metadata": {
        "id": "_9i8boPQslmu"
      },
      "outputs": [],
      "source": [
        "import IPython\n",
        "\n",
        "app = IPython.Application.instance()\n",
        "app.kernel.do_shutdown(True)"
      ]
    },
    {
      "cell_type": "markdown",
      "metadata": {
        "id": "YDUoo4FReoFr"
      },
      "source": [
        "`Vertex AI User`権限のあるアカウントでログインします。"
      ]
    },
    {
      "cell_type": "code",
      "execution_count": null,
      "metadata": {
        "id": "42eK3kT2sqti"
      },
      "outputs": [],
      "source": [
        "import sys\n",
        "\n",
        "if \"google.colab\" in sys.modules:\n",
        "    from google.colab import auth\n",
        "    auth.authenticate_user()"
      ]
    },
    {
      "cell_type": "markdown",
      "metadata": {
        "id": "ieZ0URti3O9t"
      },
      "source": [
        "Google Cloud の Vertex AI を利用できるように設定します。"
      ]
    },
    {
      "cell_type": "code",
      "execution_count": null,
      "metadata": {
        "id": "rhvzsOp73ZCN"
      },
      "outputs": [],
      "source": [
        "import vertexai\n",
        "PROJECT_ID = \"<your_project_id>\"  # @param {type:\"string\"}\n",
        "REGION = \"asia-northeast1\"\n",
        "\n",
        "vertexai.init(project=PROJECT_ID, location=REGION)"
      ]
    },
    {
      "cell_type": "markdown",
      "metadata": {
        "id": "c_2kgwNd3FXC"
      },
      "source": [
        "#Gemini APIの応答\n",
        "はじめに Gemini に直接質問を投げてみます。"
      ]
    },
    {
      "cell_type": "code",
      "execution_count": null,
      "metadata": {
        "id": "B88DKbO2u7mg"
      },
      "outputs": [],
      "source": [
        "prompt = \"\"\"\n",
        "Cloud Spannerの特徴的な機能は？\n",
        "\"\"\""
      ]
    },
    {
      "cell_type": "code",
      "execution_count": null,
      "metadata": {
        "id": "2VqLLN7K4JR5"
      },
      "outputs": [],
      "source": [
        "from IPython.display import Markdown\n",
        "from vertexai.generative_models import GenerativeModel\n",
        "\n",
        "model = GenerativeModel(\"gemini-1.5-pro\")\n",
        "responses = model.generate_content([prompt], generation_config={\"max_output_tokens\": 2048, \"temperature\": 1.0}, stream=False)\n",
        "Markdown(responses.text)\n",
        "# streaming ver\n",
        "#for response in responses:\n",
        "#    print(response.text, end=\"\")\n"
      ]
    },
    {
      "cell_type": "markdown",
      "metadata": {
        "id": "pkAiAHPQeubJ"
      },
      "source": [
        "#Vertex AI Search の確認\n",
        "1. Cloud Console の UI で Vertex AI Search の検索アプリを作成してください。\n",
        "\n",
        "  (UI) https://console.cloud.google.com/gen-app-builder/engines\n",
        "\n",
        "  (ガイド) https://cloud.google.com/generative-ai-app-builder/docs/try-enterprise-search#create_and_preview_a_search_app_for_structured_data_from\n",
        "\n",
        "\n",
        "2. 検索対象の文書を複数登録してください。\n",
        "\n",
        "3. 作成後の検索アプリのプレビュー機能で、検索アプリが正しく動作することを確認します。\n",
        "\n",
        "4. 作成後のDATASTORE_IDを確認して変更してください。"
      ]
    },
    {
      "cell_type": "code",
      "execution_count": null,
      "metadata": {
        "id": "3DHnbAUVt2Cb"
      },
      "outputs": [],
      "source": [
        "LOCATION = \"global\"\n",
        "DATASTORE_ID = \"<your_datastore_id>\" # @param {type:\"string\"}\n",
        "DATA_STORE_MODE = \"extractive_answers\" # @param [\"extractive_answers\", \"extractive_segments\", \"CHUNKS\"]"
      ]
    },
    {
      "cell_type": "markdown",
      "metadata": {
        "id": "M9Vhlu-DjI9k"
      },
      "source": [
        "API でも検索結果が取得できることを確認します。"
      ]
    },
    {
      "cell_type": "code",
      "execution_count": null,
      "metadata": {
        "id": "nd9EUzjSuIdn"
      },
      "outputs": [],
      "source": [
        "from typing import List\n",
        "from google.cloud import discoveryengine_v1alpha as discoveryengine\n",
        "from google.api_core.client_options import ClientOptions\n",
        "\n",
        "search_query = prompt\n",
        "\n",
        "client = discoveryengine.SearchServiceClient(\n",
        "    client_options=ClientOptions(api_endpoint=f\"{LOCATION}-discoveryengine.googleapis.com\")\n",
        ")\n",
        "\n",
        "# e.g. projects/{project_id}/locations/{location}/dataStores/{data_store_id}/servingConfigs/{serving_config_id}\n",
        "serving_config=client.serving_config_path(\n",
        "    project=PROJECT_ID,\n",
        "    location=LOCATION,\n",
        "    data_store=DATASTORE_ID,\n",
        "    serving_config=\"default_search:search\",\n",
        ")\n",
        "query_expansion_spec=discoveryengine.SearchRequest.QueryExpansionSpec(\n",
        "    condition=discoveryengine.SearchRequest.QueryExpansionSpec.Condition.AUTO,\n",
        ")\n",
        "spell_correction_spec=discoveryengine.SearchRequest.SpellCorrectionSpec(\n",
        "    mode=discoveryengine.SearchRequest.SpellCorrectionSpec.Mode.AUTO\n",
        ")\n",
        "\n",
        "# `SearchRequest` https://cloud.google.com/python/docs/reference/discoveryengine/latest/google.cloud.discoveryengine_v1alpha.types.SearchRequest\n",
        "if DATA_STORE_MODE == \"CHUNKS\":\n",
        "    page_size=10\n",
        "    # `ContentSearchSpec` https://cloud.google.com/python/docs/reference/discoveryengine/latest/google.cloud.discoveryengine_v1alpha.types.SearchRequest.ContentSearchSpec\n",
        "    content_search_spec = discoveryengine.SearchRequest.ContentSearchSpec(\n",
        "        search_result_mode=\"CHUNKS\",#\"CHUNKS\"\n",
        "    )\n",
        "else:\n",
        "    page_size=3\n",
        "    # `ContentSearchSpec` https://cloud.google.com/python/docs/reference/discoveryengine/latest/google.cloud.discoveryengine_v1alpha.types.SearchRequest.ContentSearchSpec\n",
        "    content_search_spec = discoveryengine.SearchRequest.ContentSearchSpec(\n",
        "        # https://cloud.google.com/generative-ai-app-builder/docs/snippets\n",
        "        snippet_spec=discoveryengine.SearchRequest.ContentSearchSpec.SnippetSpec(\n",
        "            return_snippet=True\n",
        "        ),\n",
        "        # https://cloud.google.com/generative-ai-app-builder/docs/get-search-summaries\n",
        "        summary_spec=discoveryengine.SearchRequest.ContentSearchSpec.SummarySpec(\n",
        "            summary_result_count=3,\n",
        "            include_citations=True,\n",
        "            ignore_adversarial_query=True,\n",
        "            ignore_non_summary_seeking_query=True,\n",
        "            # https://cloud.google.com/generative-ai-app-builder/docs/get-search-summaries#summary-model\n",
        "            model_spec=discoveryengine.SearchRequest.ContentSearchSpec.SummarySpec.ModelSpec(\n",
        "                version=\"stable\"\n",
        "            )\n",
        "        ),\n",
        "        # https://cloud.google.com/generative-ai-app-builder/docs/snippets#extractive-segments\n",
        "        extractive_content_spec=discoveryengine.SearchRequest.ContentSearchSpec.ExtractiveContentSpec(\n",
        "            max_extractive_answer_count=3,\n",
        "            max_extractive_segment_count=3,\n",
        "            return_extractive_segment_score=True,\n",
        "        ),\n",
        "    )\n",
        "\n",
        "request = discoveryengine.SearchRequest(\n",
        "    serving_config=serving_config,\n",
        "    query_expansion_spec=query_expansion_spec,\n",
        "    spell_correction_spec=spell_correction_spec,\n",
        "    query=search_query,\n",
        "    page_size=page_size,\n",
        "    content_search_spec=content_search_spec,\n",
        ")\n",
        "\n",
        "vais_response = client.search(request)\n"
      ]
    },
    {
      "cell_type": "markdown",
      "metadata": {
        "id": "s8d5f8B7jXGd"
      },
      "source": [
        "Vertex AI Search の検索サマリーを確認します。CHUNKS モードの場合はありません。"
      ]
    },
    {
      "cell_type": "code",
      "execution_count": null,
      "metadata": {
        "id": "0a1-jKlBW95V"
      },
      "outputs": [],
      "source": [
        "Markdown(vais_response.summary.summary_text)"
      ]
    },
    {
      "cell_type": "markdown",
      "metadata": {
        "id": "zs0MUBxijhnF"
      },
      "source": [
        "参考までに API の応答を全部確認します。"
      ]
    },
    {
      "cell_type": "code",
      "execution_count": null,
      "metadata": {
        "id": "LoFW5bb0jcmh"
      },
      "outputs": [],
      "source": [
        "vais_response"
      ]
    },
    {
      "cell_type": "markdown",
      "metadata": {
        "id": "aAbzFSJNBHU5"
      },
      "source": [
        "# Vertex AI Search で DIY RAG を実装\n",
        "\n",
        "DIY でプロンプトを定義し、DIY で Geimini を利用した RAG アプリを作成します。"
      ]
    },
    {
      "cell_type": "code",
      "execution_count": null,
      "metadata": {
        "id": "lW2rGWFXHdfs"
      },
      "outputs": [],
      "source": [
        "context = \"<context>\\n\"\n",
        "for result in vais_response.results:\n",
        "    if DATA_STORE_MODE == \"CHUNKS\":\n",
        "        chunk = result.chunk\n",
        "        context += \"  <chunk>\" + chunk.content\n",
        "        context += \"\\n    <reference>\" + chunk.document_metadata.uri + \"    </reference>\\n\"\n",
        "        context += \"  </chunk>\\n\"\n",
        "    else:\n",
        "        doc_data = result.document.derived_struct_data\n",
        "        context += \"  <document>\\n\"\n",
        "        for chunk in doc_data.get(DATA_STORE_MODE, []):\n",
        "            context += \"    <chunk>\" + chunk.get(\"content\", \"\")\n",
        "            context += \"\\n      <referencePage>\" + doc_data.get(\"link\",\"\") + \": \" +chunk.get(\"pageNumber\", \"\") + \"    </referencePage>\\n\"\n",
        "            context += \"    </chunk>\\n\"\n",
        "            context += \"  </document>\"\n",
        "\n",
        "context += \"</context>\\n\"\n",
        "\n",
        "rag_prompt = \"\"\"\n",
        "あなたは与えられたContextを元に回答するRAGエージェントです。Context情報を元に最後の質問に回答してください。\n",
        "Contextに回答に必要な情報がない場合は、適切な情報が見つかりませんでした、と回答してください。\n",
        "また、回答には引用した文書とpageNumberをすべて提示してください。\n",
        "{context}\n",
        "=====\n",
        "Question: {prompt}\n",
        "Ansewer:\n",
        "\"\"\"\n",
        "\n",
        "rag_prompt = rag_prompt.format(context=context, prompt=prompt)\n",
        "print(rag_prompt)"
      ]
    },
    {
      "cell_type": "code",
      "execution_count": null,
      "metadata": {
        "id": "44xi8GiLpL_U"
      },
      "outputs": [],
      "source": [
        "responses = model.generate_content([rag_prompt], generation_config={\"max_output_tokens\": 2048, \"temperature\": 0.5}, stream=False)\n",
        "\n",
        "Markdown(responses.text)"
      ]
    },
    {
      "cell_type": "markdown",
      "metadata": {
        "id": "c-04cYkEjcZP"
      },
      "source": [
        "# Grounding with Vertex AI Search\n",
        "\n",
        "Vertex AI Search でグラウンディングした Gemini の応答を確認します。いわゆる Google マネージドな RAG です。\n",
        "\n",
        "DATASTOREがCHUNKSモードの場合は利用できません。"
      ]
    },
    {
      "cell_type": "code",
      "execution_count": null,
      "metadata": {
        "id": "KvrTKzdGr0ld"
      },
      "outputs": [],
      "source": [
        "from vertexai.preview.generative_models import GenerativeModel, grounding, Tool\n",
        "\n",
        "model = GenerativeModel(\"gemini-1.5-pro-preview-0409\")\n",
        "data_store_path = f\"projects/{PROJECT_ID}/locations/{LOCATION}/collections/default_collection/dataStores/{DATASTORE_ID}\"\n",
        "tool = Tool.from_retrieval(grounding.Retrieval(grounding.VertexAISearch(datastore=data_store_path)))\n",
        "responses = model.generate_content([prompt], generation_config={\"max_output_tokens\": 2048, \"temperature\": 0.5}, stream=False, tools=[tool])\n",
        "\n",
        "Markdown(responses.text)"
      ]
    }
  ],
  "metadata": {
    "colab": {
      "provenance": [],
      "toc_visible": true
    },
    "kernelspec": {
      "display_name": "Python 3",
      "name": "python3"
    },
    "language_info": {
      "name": "python"
    }
  },
  "nbformat": 4,
  "nbformat_minor": 0
}