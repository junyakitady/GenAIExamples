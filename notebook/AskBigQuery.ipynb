{
  "nbformat": 4,
  "nbformat_minor": 0,
  "metadata": {
    "colab": {
      "provenance": [],
      "toc_visible": true
    },
    "kernelspec": {
      "name": "python3",
      "display_name": "Python 3"
    },
    "language_info": {
      "name": "python"
    }
  },
  "cells": [
    {
      "cell_type": "markdown",
      "source": [
        "# BigQuery のテーブルに自然言語で問い合わせる\n",
        "\n",
        "## はじめに\n",
        "Google が提供する生成 AI の Gemini を利用し、BIgQueryに自然言語で問い合わせる方法を理解します。\n",
        "\n",
        "ここでは、以下の2通りの方法を確認します。\n",
        "\n",
        "1.   BigQuery のデータを Pandas としてロードし、生成 AI に Dataframe を扱うコードを生成、実行させる\n",
        "2.   生成 AI に BigQuery を検索する SQL を生成、実行させる\n",
        "\n",
        "フレームワークとしては、LangChain を利用しています。\n",
        "\n",
        "この処理を、Google Cloud の Vertex AI を利用して確認します。"
      ],
      "metadata": {
        "id": "CDxIP77j7GGe"
      }
    },
    {
      "cell_type": "markdown",
      "source": [
        "## 環境セットアップ\n",
        "\n",
        "前提パッケージを導入します。"
      ],
      "metadata": {
        "id": "sQHutzhm851r"
      }
    },
    {
      "cell_type": "code",
      "execution_count": null,
      "metadata": {
        "collapsed": true,
        "id": "51uI84tF-2JK"
      },
      "outputs": [],
      "source": [
        "# Install Vertex AI LLM SDK\n",
        "! pip install google-cloud-aiplatform langchain langchain_experimental sqlalchemy-bigquery --upgrade --user"
      ]
    },
    {
      "cell_type": "markdown",
      "source": [
        "**※ 注意: ここでカーネルを再起動します。**\n",
        "\n",
        "* Colab の場合、上記のログに\"RESTART RUNTIME\"ボタンをが表示された場合、ボタンを押してカーネルをリスタートできます。\n",
        "* Vertex AI Workbench の場合、メニューよりカーネルのリスタートを実行できます。"
      ],
      "metadata": {
        "id": "-a9kQv-19AFA"
      }
    },
    {
      "cell_type": "code",
      "source": [
        "import IPython\n",
        "\n",
        "app = IPython.Application.instance()\n",
        "app.kernel.do_shutdown(True)"
      ],
      "metadata": {
        "id": "D1P2FUUzjGFS"
      },
      "execution_count": null,
      "outputs": []
    },
    {
      "cell_type": "markdown",
      "source": [
        "続いて、Google Cloud でプロジェクトを作成し Vertex AI API を有効化します。\n",
        "\n",
        "また、このコードを実行するユーザーに`Vertex AI ユーザー`、`BigQuery ジョブユーザー`、`BigQuery データ閲覧者`、`BigQuery 読み取りセッション ユーザー`のロールを付与します。\n",
        "\n",
        "Colab の場合、以下を実行し Vertex AI API のユーザー権限をもつアカウントでログインします。 Vertex AI Workbench の場合はスキップされます。"
      ],
      "metadata": {
        "id": "4iSggfeT9GgP"
      }
    },
    {
      "cell_type": "code",
      "source": [
        "import sys\n",
        "\n",
        "if \"google.colab\" in sys.modules:\n",
        "    from google.colab import auth\n",
        "    auth.authenticate_user()"
      ],
      "metadata": {
        "id": "3hEsB0ATGaAD"
      },
      "execution_count": null,
      "outputs": []
    },
    {
      "cell_type": "markdown",
      "source": [
        "環境変数などを定義します。 Google Cloud のプロジェクト ID、BigQuery の テーブル情報などを指定してください。"
      ],
      "metadata": {
        "id": "WKAUn4pQImpI"
      }
    },
    {
      "cell_type": "code",
      "source": [
        "PROJECT_ID = \"<your_project_id>\"  # @param {type:\"string\"}\n",
        "BQ_LOCATION = \"asia-northeast1\"  # @param {type:\"string\"}\n",
        "BQ_DATASET = \"<your_dataset>\"  # @param {type:\"string\"}\n",
        "BQ_TABLE = \"<your_table>\"  # @param {type:\"string\"}\n",
        "REGION = \"us-central1\""
      ],
      "metadata": {
        "id": "YFIZGho8Gcxa"
      },
      "execution_count": null,
      "outputs": []
    },
    {
      "cell_type": "markdown",
      "source": [
        "Vertex AI と LangChain のライブラリーの導入を確認します。 LangChain を利用して Gemini モデルを取得します。"
      ],
      "metadata": {
        "id": "FU4935JbJPWY"
      }
    },
    {
      "cell_type": "code",
      "source": [
        "import langchain\n",
        "from google.cloud import aiplatform\n",
        "\n",
        "print(f\"LangChain version: {langchain.__version__}\")\n",
        "print(f\"Vertex AI SDK version: {aiplatform.__version__}\")\n",
        "\n",
        "import vertexai\n",
        "vertexai.init(project=PROJECT_ID, location=REGION)\n",
        "\n",
        "from langchain.llms import VertexAI\n",
        "# Text model instance integrated with LangChain\n",
        "llm = VertexAI(\n",
        "    model_name=\"gemini-pro\",\n",
        "    max_output_tokens=1024,\n",
        "    temperature=0,\n",
        "    top_p=0.8,\n",
        "    top_k=40,\n",
        "    verbose=True,\n",
        ")"
      ],
      "metadata": {
        "id": "ZfSzHUbxGkIA"
      },
      "execution_count": null,
      "outputs": []
    },
    {
      "cell_type": "markdown",
      "source": [
        "## Pandas (BigQuery DataFrames) を利用した検索\n",
        "\n",
        "BigQuery DataFrames は Pandas と同じ API を提供するライブラリです。ここでは、Pandas  を利用してテーブルの照会を確認します。"
      ],
      "metadata": {
        "id": "GphISMBjJYKj"
      }
    },
    {
      "cell_type": "code",
      "source": [
        "import bigframes.pandas as bpd\n",
        "\n",
        "\n",
        "# Set BigQuery DataFrames options\n",
        "bpd.close_session()\n",
        "bpd.options.bigquery.project = PROJECT_ID\n",
        "bpd.options.bigquery.location = BQ_LOCATION\n",
        "\n",
        "# Create a DataFrame from a BigQuery table\n",
        "table = PROJECT_ID+\".\"+BQ_DATASET+\".\"+BQ_TABLE\n",
        "bdf = bpd.read_gbq(table)\n",
        "bdf.head(5)"
      ],
      "metadata": {
        "id": "w8bKJgE9H1TE"
      },
      "execution_count": null,
      "outputs": []
    },
    {
      "cell_type": "markdown",
      "source": [
        "Pandas を処理する LangChain Agent を呼び出します。bigframes.dataframe.DataFrame は、通常の pd.DataFrame のインスタンスではないため LangChain のコードをカスタマイズします。また、プロンプトの安定性を向上させるためデフォルトのプロンプトを微修正しています。"
      ],
      "metadata": {
        "id": "6QRt0yvzKBXW"
      }
    },
    {
      "cell_type": "code",
      "source": [
        "from typing import Any\n",
        "from langchain.agents.agent import AgentExecutor\n",
        "from langchain.prompts import PromptTemplate\n",
        "from langchain.schema.language_model import BaseLanguageModel\n",
        "from langchain_experimental.tools.python.tool import PythonAstREPLTool\n",
        "from langchain.agents.agent_types import AgentType\n",
        "from langchain_experimental.agents.agent_toolkits import create_pandas_dataframe_agent\n",
        "from langchain.chains.llm import LLMChain\n",
        "from langchain.agents.agent import AgentExecutor, BaseSingleActionAgent\n",
        "from langchain.agents.mrkl.base import ZeroShotAgent\n",
        "\n",
        "AGENT_TEMPLATE = \"\"\"\n",
        "You are working with a pandas dataframe in Python. The name of the dataframe is `df`.\n",
        "You should use the tools below to answer the question posed of you:\n",
        "\n",
        "python_repl_ast: A Python shell. Use this to execute python commands. Input should be a valid python command. When using this tool, sometimes output is abbreviated - make sure it does not look abbreviated before using it in your answer.\n",
        "\n",
        "Use the following format:\n",
        "\n",
        "Question: the input question you must answer\n",
        "Thought: you should always think about what to do\n",
        "Action: the action to take, should be \"python_repl_ast\"\n",
        "Action Input: the input to the action\n",
        "Observation: the result of the action\n",
        "... (this Thought/Action/Action Input/Observation can repeat N times)\n",
        "Thought: I now know the final answer\n",
        "Final Answer: the final answer to the original input question\n",
        "\n",
        "\n",
        "This is the result of `print(df.head())`:\n",
        "{df_head}\n",
        "You can only use above columns for query.\n",
        "\n",
        "Begin!\n",
        "Question: {input}\n",
        "{agent_scratchpad}\n",
        "\"\"\"\n",
        "\n",
        "# hack Langchain as bigframes.dataframe.DataFrame is not instance of pd.DataFrame\n",
        "def hack_create_pandas_dataframe_agent(\n",
        "    llm: BaseLanguageModel,\n",
        "    df: Any,\n",
        "    verbose: bool = False,\n",
        ") -> AgentExecutor:\n",
        "\n",
        "    tools = [PythonAstREPLTool(locals={\"df\": df})]\n",
        "    prompt = PromptTemplate(template=AGENT_TEMPLATE, input_variables=[\"input\", \"agent_scratchpad\", \"df_head\"])\n",
        "    partial_prompt = prompt.partial()\n",
        "    partial_prompt = partial_prompt.partial(\n",
        "        df_head=str(df.head(5).to_markdown())\n",
        "    )\n",
        "    llm_chain = LLMChain(\n",
        "        llm=llm,\n",
        "        prompt=partial_prompt,\n",
        "    )\n",
        "    tool_names = [tool.name for tool in tools]\n",
        "    agent = ZeroShotAgent(\n",
        "        llm_chain=llm_chain,\n",
        "        allowed_tools=tool_names,\n",
        "    )\n",
        "    new_agent = AgentExecutor.from_agent_and_tools(\n",
        "            agent=agent,\n",
        "            tools=tools,\n",
        "            verbose=verbose,\n",
        "            return_intermediate_steps=verbose,\n",
        "            max_iterations=5,\n",
        "            early_stopping_method=\"force\",\n",
        "    )\n",
        "    return new_agent\n",
        "\n",
        "#agent = create_pandas_dataframe_agent(llm, bdf, verbose=True)\n",
        "agent = hack_create_pandas_dataframe_agent(llm, bdf, verbose=True)"
      ],
      "metadata": {
        "id": "ksuIgwKaJoVL"
      },
      "execution_count": null,
      "outputs": []
    },
    {
      "cell_type": "markdown",
      "source": [
        "対象テーブルの件数を確認する質問を投げてみます。"
      ],
      "metadata": {
        "id": "889I-CftKpKJ"
      }
    },
    {
      "cell_type": "code",
      "source": [
        "agent.invoke(\"レコードは何件ありますか\")\n"
      ],
      "metadata": {
        "id": "eIhJHGh7WS7m"
      },
      "execution_count": null,
      "outputs": []
    },
    {
      "cell_type": "markdown",
      "source": [
        "対象テーブルに関する質問を投げてみます。"
      ],
      "metadata": {
        "id": "ABSbQ2oDKwBq"
      }
    },
    {
      "cell_type": "code",
      "source": [
        "response = agent.invoke(\"\"\"\n",
        "東京都杉並区の中で地価を高い順に5個教えてください。\n",
        "以下のフォーマットで表形式で回答してください。\n",
        "[最寄り駅] [住所] [地価]\n",
        "\"\"\")"
      ],
      "metadata": {
        "id": "mVy74INtagYV"
      },
      "execution_count": null,
      "outputs": []
    },
    {
      "cell_type": "markdown",
      "source": [
        "response の形式を確認します。"
      ],
      "metadata": {
        "id": "fHbx7syBLFqN"
      }
    },
    {
      "cell_type": "code",
      "source": [
        "response"
      ],
      "metadata": {
        "id": "tomM9iQyIetW"
      },
      "execution_count": null,
      "outputs": []
    },
    {
      "cell_type": "markdown",
      "source": [
        "pandas のコードを取り出してみます。"
      ],
      "metadata": {
        "id": "4n4ZNNDVLDmb"
      }
    },
    {
      "cell_type": "code",
      "source": [
        "#最後に成功した場合のコマンド\n",
        "command = response[\"intermediate_steps\"][len(response[\"intermediate_steps\"])-1][0].tool_input\n",
        "command"
      ],
      "metadata": {
        "id": "sJwM1WrHJCjK"
      },
      "execution_count": null,
      "outputs": []
    },
    {
      "cell_type": "markdown",
      "source": [
        "pandas のコードが正しく実行できるか確認します。"
      ],
      "metadata": {
        "id": "e73CN0ghLamm"
      }
    },
    {
      "cell_type": "code",
      "source": [
        "tool = PythonAstREPLTool(locals={\"df\": bdf})\n",
        "tool.invoke(command)"
      ],
      "metadata": {
        "collapsed": true,
        "id": "arqQhkHDMhT6"
      },
      "execution_count": null,
      "outputs": []
    },
    {
      "cell_type": "markdown",
      "source": [
        "別の質問を投げてみます。"
      ],
      "metadata": {
        "id": "ztQYIP6wLd9N"
      }
    },
    {
      "cell_type": "code",
      "source": [
        "response = agent.invoke(\"\"\"\n",
        "\"1住居\"の土地の中から、地価の値上がり上位3件を教えてください。\n",
        "以下のフォーマットで表形式で回答してください。\n",
        "[最寄り駅] [住所] [地価]\n",
        "\"\"\")"
      ],
      "metadata": {
        "id": "B6pHdm3nS2z_"
      },
      "execution_count": null,
      "outputs": []
    },
    {
      "cell_type": "markdown",
      "source": [
        "もう１つ別の質問を試してみます。"
      ],
      "metadata": {
        "id": "DumkaAOxLh64"
      }
    },
    {
      "cell_type": "code",
      "source": [
        "agent.invoke(\"\"\"\n",
        "二子玉川 駅の近くで、区分\"1住居\"の地価の平均は？\n",
        "\"\"\")"
      ],
      "metadata": {
        "id": "rBpah4DphITd"
      },
      "execution_count": null,
      "outputs": []
    },
    {
      "cell_type": "markdown",
      "source": [
        "## SQL を生成させる検索\n",
        "\n",
        "今度は、SQL を生成させるパターンを試します。"
      ],
      "metadata": {
        "id": "Lqsr5OQwL7gh"
      }
    },
    {
      "cell_type": "code",
      "source": [
        "from langchain.utilities import SQLDatabase\n",
        "from langchain_experimental.sql import SQLDatabaseChain\n",
        "from langchain.agents import create_sql_agent\n",
        "from langchain.agents.agent_toolkits import SQLDatabaseToolkit\n",
        "\n",
        "\n",
        "db = SQLDatabase.from_uri(\"bigquery://\"+PROJECT_ID+\"/\"+BQ_DATASET)\n",
        "sqlagent = create_sql_agent(llm=llm, toolkit=SQLDatabaseToolkit(db=db, llm=llm), verbose=True, max_iterations=10)\n",
        "#sqlagent = SQLDatabaseChain.from_llm(llm, db, verbose=True)"
      ],
      "metadata": {
        "id": "gcPmH0pheJOp"
      },
      "execution_count": null,
      "outputs": []
    },
    {
      "cell_type": "markdown",
      "source": [
        "対象テーブルの件数を確認する質問を投げてみます。"
      ],
      "metadata": {
        "id": "ZEV-wK6BMnLo"
      }
    },
    {
      "cell_type": "code",
      "source": [
        "sqlagent.invoke(\"地価の情報は何件ありますか？\")"
      ],
      "metadata": {
        "id": "WBHOZMo1fiyX"
      },
      "execution_count": null,
      "outputs": []
    },
    {
      "cell_type": "markdown",
      "source": [
        "対象テーブルに関する質問を投げてみます。"
      ],
      "metadata": {
        "id": "1X9BfEBmMsBB"
      }
    },
    {
      "cell_type": "code",
      "source": [
        "response = sqlagent.invoke(\"\"\"\n",
        "東京都杉並区の中で地価を高い順に5つ教えてください。\n",
        "以下のフォーマットで表形式で回答してください。\n",
        "[最寄り駅] [住所] [地価]\n",
        "\"\"\")\n",
        "response"
      ],
      "metadata": {
        "id": "FlczOwohfufV"
      },
      "execution_count": null,
      "outputs": []
    },
    {
      "cell_type": "markdown",
      "source": [
        "以上、ありがとうございました。\n",
        "\n",
        "## 参考情報\n",
        "- [LangChain](https://python.langchain.com/docs/get_started/introduction.html)\n",
        "- [Overview of Generative AI on Vertex AI](https://cloud.google.com/vertex-ai/docs/generative-ai/learn/overview)"
      ],
      "metadata": {
        "id": "IUYBQgwPQvg7"
      }
    }
  ]
}